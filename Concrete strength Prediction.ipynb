{
  "nbformat": 4,
  "nbformat_minor": 0,
  "metadata": {
    "colab": {
      "provenance": []
    },
    "kernelspec": {
      "name": "python3",
      "display_name": "Python 3"
    },
    "language_info": {
      "name": "python"
    }
  },
  "cells": [
    {
      "cell_type": "code",
      "execution_count": 164,
      "metadata": {
        "id": "qw4gWW1DyO1d"
      },
      "outputs": [],
      "source": [
        "import pandas as pd\n",
        "import numpy as np\n",
        "import matplotlib.pyplot as plt"
      ]
    },
    {
      "cell_type": "code",
      "source": [
        "data=pd.read_csv('concrete_data.csv')"
      ],
      "metadata": {
        "id": "tMJaWgW4ylWl"
      },
      "execution_count": 165,
      "outputs": []
    },
    {
      "cell_type": "code",
      "source": [
        "data.head()"
      ],
      "metadata": {
        "colab": {
          "base_uri": "https://localhost:8080/",
          "height": 206
        },
        "id": "8znR2smZyslA",
        "outputId": "43e6861b-dba3-4f55-e266-78aecf57bf38"
      },
      "execution_count": 166,
      "outputs": [
        {
          "output_type": "execute_result",
          "data": {
            "text/plain": [
              "   Cement  Blast Furnace Slag  Fly Ash  Water  Superplasticizer  \\\n",
              "0   540.0                 0.0      0.0  162.0               2.5   \n",
              "1   540.0                 0.0      0.0  162.0               2.5   \n",
              "2   332.5               142.5      0.0  228.0               0.0   \n",
              "3   332.5               142.5      0.0  228.0               0.0   \n",
              "4   198.6               132.4      0.0  192.0               0.0   \n",
              "\n",
              "   Coarse Aggregate  Fine Aggregate  Age  Strength  \n",
              "0            1040.0           676.0   28     79.99  \n",
              "1            1055.0           676.0   28     61.89  \n",
              "2             932.0           594.0  270     40.27  \n",
              "3             932.0           594.0  365     41.05  \n",
              "4             978.4           825.5  360     44.30  "
            ],
            "text/html": [
              "\n",
              "  <div id=\"df-15570f28-79c7-4081-a365-9e6a9b916484\" class=\"colab-df-container\">\n",
              "    <div>\n",
              "<style scoped>\n",
              "    .dataframe tbody tr th:only-of-type {\n",
              "        vertical-align: middle;\n",
              "    }\n",
              "\n",
              "    .dataframe tbody tr th {\n",
              "        vertical-align: top;\n",
              "    }\n",
              "\n",
              "    .dataframe thead th {\n",
              "        text-align: right;\n",
              "    }\n",
              "</style>\n",
              "<table border=\"1\" class=\"dataframe\">\n",
              "  <thead>\n",
              "    <tr style=\"text-align: right;\">\n",
              "      <th></th>\n",
              "      <th>Cement</th>\n",
              "      <th>Blast Furnace Slag</th>\n",
              "      <th>Fly Ash</th>\n",
              "      <th>Water</th>\n",
              "      <th>Superplasticizer</th>\n",
              "      <th>Coarse Aggregate</th>\n",
              "      <th>Fine Aggregate</th>\n",
              "      <th>Age</th>\n",
              "      <th>Strength</th>\n",
              "    </tr>\n",
              "  </thead>\n",
              "  <tbody>\n",
              "    <tr>\n",
              "      <th>0</th>\n",
              "      <td>540.0</td>\n",
              "      <td>0.0</td>\n",
              "      <td>0.0</td>\n",
              "      <td>162.0</td>\n",
              "      <td>2.5</td>\n",
              "      <td>1040.0</td>\n",
              "      <td>676.0</td>\n",
              "      <td>28</td>\n",
              "      <td>79.99</td>\n",
              "    </tr>\n",
              "    <tr>\n",
              "      <th>1</th>\n",
              "      <td>540.0</td>\n",
              "      <td>0.0</td>\n",
              "      <td>0.0</td>\n",
              "      <td>162.0</td>\n",
              "      <td>2.5</td>\n",
              "      <td>1055.0</td>\n",
              "      <td>676.0</td>\n",
              "      <td>28</td>\n",
              "      <td>61.89</td>\n",
              "    </tr>\n",
              "    <tr>\n",
              "      <th>2</th>\n",
              "      <td>332.5</td>\n",
              "      <td>142.5</td>\n",
              "      <td>0.0</td>\n",
              "      <td>228.0</td>\n",
              "      <td>0.0</td>\n",
              "      <td>932.0</td>\n",
              "      <td>594.0</td>\n",
              "      <td>270</td>\n",
              "      <td>40.27</td>\n",
              "    </tr>\n",
              "    <tr>\n",
              "      <th>3</th>\n",
              "      <td>332.5</td>\n",
              "      <td>142.5</td>\n",
              "      <td>0.0</td>\n",
              "      <td>228.0</td>\n",
              "      <td>0.0</td>\n",
              "      <td>932.0</td>\n",
              "      <td>594.0</td>\n",
              "      <td>365</td>\n",
              "      <td>41.05</td>\n",
              "    </tr>\n",
              "    <tr>\n",
              "      <th>4</th>\n",
              "      <td>198.6</td>\n",
              "      <td>132.4</td>\n",
              "      <td>0.0</td>\n",
              "      <td>192.0</td>\n",
              "      <td>0.0</td>\n",
              "      <td>978.4</td>\n",
              "      <td>825.5</td>\n",
              "      <td>360</td>\n",
              "      <td>44.30</td>\n",
              "    </tr>\n",
              "  </tbody>\n",
              "</table>\n",
              "</div>\n",
              "    <div class=\"colab-df-buttons\">\n",
              "\n",
              "  <div class=\"colab-df-container\">\n",
              "    <button class=\"colab-df-convert\" onclick=\"convertToInteractive('df-15570f28-79c7-4081-a365-9e6a9b916484')\"\n",
              "            title=\"Convert this dataframe to an interactive table.\"\n",
              "            style=\"display:none;\">\n",
              "\n",
              "  <svg xmlns=\"http://www.w3.org/2000/svg\" height=\"24px\" viewBox=\"0 -960 960 960\">\n",
              "    <path d=\"M120-120v-720h720v720H120Zm60-500h600v-160H180v160Zm220 220h160v-160H400v160Zm0 220h160v-160H400v160ZM180-400h160v-160H180v160Zm440 0h160v-160H620v160ZM180-180h160v-160H180v160Zm440 0h160v-160H620v160Z\"/>\n",
              "  </svg>\n",
              "    </button>\n",
              "\n",
              "  <style>\n",
              "    .colab-df-container {\n",
              "      display:flex;\n",
              "      gap: 12px;\n",
              "    }\n",
              "\n",
              "    .colab-df-convert {\n",
              "      background-color: #E8F0FE;\n",
              "      border: none;\n",
              "      border-radius: 50%;\n",
              "      cursor: pointer;\n",
              "      display: none;\n",
              "      fill: #1967D2;\n",
              "      height: 32px;\n",
              "      padding: 0 0 0 0;\n",
              "      width: 32px;\n",
              "    }\n",
              "\n",
              "    .colab-df-convert:hover {\n",
              "      background-color: #E2EBFA;\n",
              "      box-shadow: 0px 1px 2px rgba(60, 64, 67, 0.3), 0px 1px 3px 1px rgba(60, 64, 67, 0.15);\n",
              "      fill: #174EA6;\n",
              "    }\n",
              "\n",
              "    .colab-df-buttons div {\n",
              "      margin-bottom: 4px;\n",
              "    }\n",
              "\n",
              "    [theme=dark] .colab-df-convert {\n",
              "      background-color: #3B4455;\n",
              "      fill: #D2E3FC;\n",
              "    }\n",
              "\n",
              "    [theme=dark] .colab-df-convert:hover {\n",
              "      background-color: #434B5C;\n",
              "      box-shadow: 0px 1px 3px 1px rgba(0, 0, 0, 0.15);\n",
              "      filter: drop-shadow(0px 1px 2px rgba(0, 0, 0, 0.3));\n",
              "      fill: #FFFFFF;\n",
              "    }\n",
              "  </style>\n",
              "\n",
              "    <script>\n",
              "      const buttonEl =\n",
              "        document.querySelector('#df-15570f28-79c7-4081-a365-9e6a9b916484 button.colab-df-convert');\n",
              "      buttonEl.style.display =\n",
              "        google.colab.kernel.accessAllowed ? 'block' : 'none';\n",
              "\n",
              "      async function convertToInteractive(key) {\n",
              "        const element = document.querySelector('#df-15570f28-79c7-4081-a365-9e6a9b916484');\n",
              "        const dataTable =\n",
              "          await google.colab.kernel.invokeFunction('convertToInteractive',\n",
              "                                                    [key], {});\n",
              "        if (!dataTable) return;\n",
              "\n",
              "        const docLinkHtml = 'Like what you see? Visit the ' +\n",
              "          '<a target=\"_blank\" href=https://colab.research.google.com/notebooks/data_table.ipynb>data table notebook</a>'\n",
              "          + ' to learn more about interactive tables.';\n",
              "        element.innerHTML = '';\n",
              "        dataTable['output_type'] = 'display_data';\n",
              "        await google.colab.output.renderOutput(dataTable, element);\n",
              "        const docLink = document.createElement('div');\n",
              "        docLink.innerHTML = docLinkHtml;\n",
              "        element.appendChild(docLink);\n",
              "      }\n",
              "    </script>\n",
              "  </div>\n",
              "\n",
              "\n",
              "<div id=\"df-69f720c0-dc58-4412-95b4-36acfffbfab7\">\n",
              "  <button class=\"colab-df-quickchart\" onclick=\"quickchart('df-69f720c0-dc58-4412-95b4-36acfffbfab7')\"\n",
              "            title=\"Suggest charts\"\n",
              "            style=\"display:none;\">\n",
              "\n",
              "<svg xmlns=\"http://www.w3.org/2000/svg\" height=\"24px\"viewBox=\"0 0 24 24\"\n",
              "     width=\"24px\">\n",
              "    <g>\n",
              "        <path d=\"M19 3H5c-1.1 0-2 .9-2 2v14c0 1.1.9 2 2 2h14c1.1 0 2-.9 2-2V5c0-1.1-.9-2-2-2zM9 17H7v-7h2v7zm4 0h-2V7h2v10zm4 0h-2v-4h2v4z\"/>\n",
              "    </g>\n",
              "</svg>\n",
              "  </button>\n",
              "\n",
              "<style>\n",
              "  .colab-df-quickchart {\n",
              "      --bg-color: #E8F0FE;\n",
              "      --fill-color: #1967D2;\n",
              "      --hover-bg-color: #E2EBFA;\n",
              "      --hover-fill-color: #174EA6;\n",
              "      --disabled-fill-color: #AAA;\n",
              "      --disabled-bg-color: #DDD;\n",
              "  }\n",
              "\n",
              "  [theme=dark] .colab-df-quickchart {\n",
              "      --bg-color: #3B4455;\n",
              "      --fill-color: #D2E3FC;\n",
              "      --hover-bg-color: #434B5C;\n",
              "      --hover-fill-color: #FFFFFF;\n",
              "      --disabled-bg-color: #3B4455;\n",
              "      --disabled-fill-color: #666;\n",
              "  }\n",
              "\n",
              "  .colab-df-quickchart {\n",
              "    background-color: var(--bg-color);\n",
              "    border: none;\n",
              "    border-radius: 50%;\n",
              "    cursor: pointer;\n",
              "    display: none;\n",
              "    fill: var(--fill-color);\n",
              "    height: 32px;\n",
              "    padding: 0;\n",
              "    width: 32px;\n",
              "  }\n",
              "\n",
              "  .colab-df-quickchart:hover {\n",
              "    background-color: var(--hover-bg-color);\n",
              "    box-shadow: 0 1px 2px rgba(60, 64, 67, 0.3), 0 1px 3px 1px rgba(60, 64, 67, 0.15);\n",
              "    fill: var(--button-hover-fill-color);\n",
              "  }\n",
              "\n",
              "  .colab-df-quickchart-complete:disabled,\n",
              "  .colab-df-quickchart-complete:disabled:hover {\n",
              "    background-color: var(--disabled-bg-color);\n",
              "    fill: var(--disabled-fill-color);\n",
              "    box-shadow: none;\n",
              "  }\n",
              "\n",
              "  .colab-df-spinner {\n",
              "    border: 2px solid var(--fill-color);\n",
              "    border-color: transparent;\n",
              "    border-bottom-color: var(--fill-color);\n",
              "    animation:\n",
              "      spin 1s steps(1) infinite;\n",
              "  }\n",
              "\n",
              "  @keyframes spin {\n",
              "    0% {\n",
              "      border-color: transparent;\n",
              "      border-bottom-color: var(--fill-color);\n",
              "      border-left-color: var(--fill-color);\n",
              "    }\n",
              "    20% {\n",
              "      border-color: transparent;\n",
              "      border-left-color: var(--fill-color);\n",
              "      border-top-color: var(--fill-color);\n",
              "    }\n",
              "    30% {\n",
              "      border-color: transparent;\n",
              "      border-left-color: var(--fill-color);\n",
              "      border-top-color: var(--fill-color);\n",
              "      border-right-color: var(--fill-color);\n",
              "    }\n",
              "    40% {\n",
              "      border-color: transparent;\n",
              "      border-right-color: var(--fill-color);\n",
              "      border-top-color: var(--fill-color);\n",
              "    }\n",
              "    60% {\n",
              "      border-color: transparent;\n",
              "      border-right-color: var(--fill-color);\n",
              "    }\n",
              "    80% {\n",
              "      border-color: transparent;\n",
              "      border-right-color: var(--fill-color);\n",
              "      border-bottom-color: var(--fill-color);\n",
              "    }\n",
              "    90% {\n",
              "      border-color: transparent;\n",
              "      border-bottom-color: var(--fill-color);\n",
              "    }\n",
              "  }\n",
              "</style>\n",
              "\n",
              "  <script>\n",
              "    async function quickchart(key) {\n",
              "      const quickchartButtonEl =\n",
              "        document.querySelector('#' + key + ' button');\n",
              "      quickchartButtonEl.disabled = true;  // To prevent multiple clicks.\n",
              "      quickchartButtonEl.classList.add('colab-df-spinner');\n",
              "      try {\n",
              "        const charts = await google.colab.kernel.invokeFunction(\n",
              "            'suggestCharts', [key], {});\n",
              "      } catch (error) {\n",
              "        console.error('Error during call to suggestCharts:', error);\n",
              "      }\n",
              "      quickchartButtonEl.classList.remove('colab-df-spinner');\n",
              "      quickchartButtonEl.classList.add('colab-df-quickchart-complete');\n",
              "    }\n",
              "    (() => {\n",
              "      let quickchartButtonEl =\n",
              "        document.querySelector('#df-69f720c0-dc58-4412-95b4-36acfffbfab7 button');\n",
              "      quickchartButtonEl.style.display =\n",
              "        google.colab.kernel.accessAllowed ? 'block' : 'none';\n",
              "    })();\n",
              "  </script>\n",
              "</div>\n",
              "\n",
              "    </div>\n",
              "  </div>\n"
            ],
            "application/vnd.google.colaboratory.intrinsic+json": {
              "type": "dataframe",
              "variable_name": "data",
              "summary": "{\n  \"name\": \"data\",\n  \"rows\": 1030,\n  \"fields\": [\n    {\n      \"column\": \"Cement\",\n      \"properties\": {\n        \"dtype\": \"number\",\n        \"std\": 104.50636449481532,\n        \"min\": 102.0,\n        \"max\": 540.0,\n        \"num_unique_values\": 278,\n        \"samples\": [\n          337.9,\n          290.2,\n          262.0\n        ],\n        \"semantic_type\": \"\",\n        \"description\": \"\"\n      }\n    },\n    {\n      \"column\": \"Blast Furnace Slag\",\n      \"properties\": {\n        \"dtype\": \"number\",\n        \"std\": 86.27934174810584,\n        \"min\": 0.0,\n        \"max\": 359.4,\n        \"num_unique_values\": 185,\n        \"samples\": [\n          94.7,\n          119.0,\n          136.3\n        ],\n        \"semantic_type\": \"\",\n        \"description\": \"\"\n      }\n    },\n    {\n      \"column\": \"Fly Ash\",\n      \"properties\": {\n        \"dtype\": \"number\",\n        \"std\": 63.99700415268765,\n        \"min\": 0.0,\n        \"max\": 200.1,\n        \"num_unique_values\": 156,\n        \"samples\": [\n          98.0,\n          142.0,\n          195.0\n        ],\n        \"semantic_type\": \"\",\n        \"description\": \"\"\n      }\n    },\n    {\n      \"column\": \"Water\",\n      \"properties\": {\n        \"dtype\": \"number\",\n        \"std\": 21.35421856503247,\n        \"min\": 121.8,\n        \"max\": 247.0,\n        \"num_unique_values\": 195,\n        \"samples\": [\n          195.4,\n          183.8,\n          127.3\n        ],\n        \"semantic_type\": \"\",\n        \"description\": \"\"\n      }\n    },\n    {\n      \"column\": \"Superplasticizer\",\n      \"properties\": {\n        \"dtype\": \"number\",\n        \"std\": 5.97384139248552,\n        \"min\": 0.0,\n        \"max\": 32.2,\n        \"num_unique_values\": 111,\n        \"samples\": [\n          15.0,\n          28.2,\n          16.5\n        ],\n        \"semantic_type\": \"\",\n        \"description\": \"\"\n      }\n    },\n    {\n      \"column\": \"Coarse Aggregate\",\n      \"properties\": {\n        \"dtype\": \"number\",\n        \"std\": 77.75395396672077,\n        \"min\": 801.0,\n        \"max\": 1145.0,\n        \"num_unique_values\": 284,\n        \"samples\": [\n          852.1,\n          913.9,\n          914.0\n        ],\n        \"semantic_type\": \"\",\n        \"description\": \"\"\n      }\n    },\n    {\n      \"column\": \"Fine Aggregate\",\n      \"properties\": {\n        \"dtype\": \"number\",\n        \"std\": 80.17598014240437,\n        \"min\": 594.0,\n        \"max\": 992.6,\n        \"num_unique_values\": 302,\n        \"samples\": [\n          710.0,\n          695.4,\n          769.3\n        ],\n        \"semantic_type\": \"\",\n        \"description\": \"\"\n      }\n    },\n    {\n      \"column\": \"Age\",\n      \"properties\": {\n        \"dtype\": \"number\",\n        \"std\": 63,\n        \"min\": 1,\n        \"max\": 365,\n        \"num_unique_values\": 14,\n        \"samples\": [\n          91,\n          100,\n          28\n        ],\n        \"semantic_type\": \"\",\n        \"description\": \"\"\n      }\n    },\n    {\n      \"column\": \"Strength\",\n      \"properties\": {\n        \"dtype\": \"number\",\n        \"std\": 16.705741961912512,\n        \"min\": 2.33,\n        \"max\": 82.6,\n        \"num_unique_values\": 845,\n        \"samples\": [\n          41.68,\n          39.59,\n          2.33\n        ],\n        \"semantic_type\": \"\",\n        \"description\": \"\"\n      }\n    }\n  ]\n}"
            }
          },
          "metadata": {},
          "execution_count": 166
        }
      ]
    },
    {
      "cell_type": "code",
      "source": [
        "data.shape"
      ],
      "metadata": {
        "colab": {
          "base_uri": "https://localhost:8080/"
        },
        "id": "QJlxg1rgzpQ-",
        "outputId": "be1a6dac-4920-4fcb-9c27-0af176654428"
      },
      "execution_count": 167,
      "outputs": [
        {
          "output_type": "execute_result",
          "data": {
            "text/plain": [
              "(1030, 9)"
            ]
          },
          "metadata": {},
          "execution_count": 167
        }
      ]
    },
    {
      "cell_type": "code",
      "source": [
        "data.dtypes"
      ],
      "metadata": {
        "colab": {
          "base_uri": "https://localhost:8080/"
        },
        "id": "-xua_IfuywNt",
        "outputId": "fcc8a515-ea8c-47e1-9e0a-3866c67733f1"
      },
      "execution_count": 168,
      "outputs": [
        {
          "output_type": "execute_result",
          "data": {
            "text/plain": [
              "Cement                float64\n",
              "Blast Furnace Slag    float64\n",
              "Fly Ash               float64\n",
              "Water                 float64\n",
              "Superplasticizer      float64\n",
              "Coarse Aggregate      float64\n",
              "Fine Aggregate        float64\n",
              "Age                     int64\n",
              "Strength              float64\n",
              "dtype: object"
            ]
          },
          "metadata": {},
          "execution_count": 168
        }
      ]
    },
    {
      "cell_type": "code",
      "source": [
        "data.isnull().sum()"
      ],
      "metadata": {
        "colab": {
          "base_uri": "https://localhost:8080/"
        },
        "id": "5bnPTzFIy29w",
        "outputId": "70cce8d3-4fb4-4479-f911-1e397ee12511"
      },
      "execution_count": 169,
      "outputs": [
        {
          "output_type": "execute_result",
          "data": {
            "text/plain": [
              "Cement                0\n",
              "Blast Furnace Slag    0\n",
              "Fly Ash               0\n",
              "Water                 0\n",
              "Superplasticizer      0\n",
              "Coarse Aggregate      0\n",
              "Fine Aggregate        0\n",
              "Age                   0\n",
              "Strength              0\n",
              "dtype: int64"
            ]
          },
          "metadata": {},
          "execution_count": 169
        }
      ]
    },
    {
      "cell_type": "code",
      "source": [
        "X=data.loc[:, data.columns != 'Strength']"
      ],
      "metadata": {
        "id": "ZHtS5a4tzINB"
      },
      "execution_count": 170,
      "outputs": []
    },
    {
      "cell_type": "code",
      "source": [
        "y=data['Strength']"
      ],
      "metadata": {
        "id": "aa8JVEonz0C6"
      },
      "execution_count": 171,
      "outputs": []
    },
    {
      "cell_type": "code",
      "source": [
        "from sklearn.preprocessing import StandardScaler\n",
        "scaler = StandardScaler()\n",
        "X=scaler.fit_transform(X)"
      ],
      "metadata": {
        "id": "gV1fH9jOz2y7"
      },
      "execution_count": 172,
      "outputs": []
    },
    {
      "cell_type": "code",
      "source": [
        "from sklearn.model_selection import train_test_split"
      ],
      "metadata": {
        "id": "4tHU8UOb0Pr8"
      },
      "execution_count": 173,
      "outputs": []
    },
    {
      "cell_type": "code",
      "source": [
        "X_train, X_test, y_train, y_test = train_test_split(X, y, test_size=0.33, random_state=42)"
      ],
      "metadata": {
        "id": "xr3cUbiJ0Yoj"
      },
      "execution_count": 174,
      "outputs": []
    },
    {
      "cell_type": "code",
      "source": [
        "from sklearn.linear_model import LinearRegression"
      ],
      "metadata": {
        "id": "WmyfWktZ0d7P"
      },
      "execution_count": 175,
      "outputs": []
    },
    {
      "cell_type": "code",
      "source": [
        "linear_regression = LinearRegression()"
      ],
      "metadata": {
        "id": "p_x-ZIKh0oxp"
      },
      "execution_count": 176,
      "outputs": []
    },
    {
      "cell_type": "code",
      "source": [
        "linear_regression.fit(X_train,y_train)"
      ],
      "metadata": {
        "colab": {
          "base_uri": "https://localhost:8080/",
          "height": 74
        },
        "id": "BS8UGMom0sPM",
        "outputId": "e91783c0-7154-4a7b-a7bd-119e628afa22"
      },
      "execution_count": 177,
      "outputs": [
        {
          "output_type": "execute_result",
          "data": {
            "text/plain": [
              "LinearRegression()"
            ],
            "text/html": [
              "<style>#sk-container-id-14 {color: black;background-color: white;}#sk-container-id-14 pre{padding: 0;}#sk-container-id-14 div.sk-toggleable {background-color: white;}#sk-container-id-14 label.sk-toggleable__label {cursor: pointer;display: block;width: 100%;margin-bottom: 0;padding: 0.3em;box-sizing: border-box;text-align: center;}#sk-container-id-14 label.sk-toggleable__label-arrow:before {content: \"▸\";float: left;margin-right: 0.25em;color: #696969;}#sk-container-id-14 label.sk-toggleable__label-arrow:hover:before {color: black;}#sk-container-id-14 div.sk-estimator:hover label.sk-toggleable__label-arrow:before {color: black;}#sk-container-id-14 div.sk-toggleable__content {max-height: 0;max-width: 0;overflow: hidden;text-align: left;background-color: #f0f8ff;}#sk-container-id-14 div.sk-toggleable__content pre {margin: 0.2em;color: black;border-radius: 0.25em;background-color: #f0f8ff;}#sk-container-id-14 input.sk-toggleable__control:checked~div.sk-toggleable__content {max-height: 200px;max-width: 100%;overflow: auto;}#sk-container-id-14 input.sk-toggleable__control:checked~label.sk-toggleable__label-arrow:before {content: \"▾\";}#sk-container-id-14 div.sk-estimator input.sk-toggleable__control:checked~label.sk-toggleable__label {background-color: #d4ebff;}#sk-container-id-14 div.sk-label input.sk-toggleable__control:checked~label.sk-toggleable__label {background-color: #d4ebff;}#sk-container-id-14 input.sk-hidden--visually {border: 0;clip: rect(1px 1px 1px 1px);clip: rect(1px, 1px, 1px, 1px);height: 1px;margin: -1px;overflow: hidden;padding: 0;position: absolute;width: 1px;}#sk-container-id-14 div.sk-estimator {font-family: monospace;background-color: #f0f8ff;border: 1px dotted black;border-radius: 0.25em;box-sizing: border-box;margin-bottom: 0.5em;}#sk-container-id-14 div.sk-estimator:hover {background-color: #d4ebff;}#sk-container-id-14 div.sk-parallel-item::after {content: \"\";width: 100%;border-bottom: 1px solid gray;flex-grow: 1;}#sk-container-id-14 div.sk-label:hover label.sk-toggleable__label {background-color: #d4ebff;}#sk-container-id-14 div.sk-serial::before {content: \"\";position: absolute;border-left: 1px solid gray;box-sizing: border-box;top: 0;bottom: 0;left: 50%;z-index: 0;}#sk-container-id-14 div.sk-serial {display: flex;flex-direction: column;align-items: center;background-color: white;padding-right: 0.2em;padding-left: 0.2em;position: relative;}#sk-container-id-14 div.sk-item {position: relative;z-index: 1;}#sk-container-id-14 div.sk-parallel {display: flex;align-items: stretch;justify-content: center;background-color: white;position: relative;}#sk-container-id-14 div.sk-item::before, #sk-container-id-14 div.sk-parallel-item::before {content: \"\";position: absolute;border-left: 1px solid gray;box-sizing: border-box;top: 0;bottom: 0;left: 50%;z-index: -1;}#sk-container-id-14 div.sk-parallel-item {display: flex;flex-direction: column;z-index: 1;position: relative;background-color: white;}#sk-container-id-14 div.sk-parallel-item:first-child::after {align-self: flex-end;width: 50%;}#sk-container-id-14 div.sk-parallel-item:last-child::after {align-self: flex-start;width: 50%;}#sk-container-id-14 div.sk-parallel-item:only-child::after {width: 0;}#sk-container-id-14 div.sk-dashed-wrapped {border: 1px dashed gray;margin: 0 0.4em 0.5em 0.4em;box-sizing: border-box;padding-bottom: 0.4em;background-color: white;}#sk-container-id-14 div.sk-label label {font-family: monospace;font-weight: bold;display: inline-block;line-height: 1.2em;}#sk-container-id-14 div.sk-label-container {text-align: center;}#sk-container-id-14 div.sk-container {/* jupyter's `normalize.less` sets `[hidden] { display: none; }` but bootstrap.min.css set `[hidden] { display: none !important; }` so we also need the `!important` here to be able to override the default hidden behavior on the sphinx rendered scikit-learn.org. See: https://github.com/scikit-learn/scikit-learn/issues/21755 */display: inline-block !important;position: relative;}#sk-container-id-14 div.sk-text-repr-fallback {display: none;}</style><div id=\"sk-container-id-14\" class=\"sk-top-container\"><div class=\"sk-text-repr-fallback\"><pre>LinearRegression()</pre><b>In a Jupyter environment, please rerun this cell to show the HTML representation or trust the notebook. <br />On GitHub, the HTML representation is unable to render, please try loading this page with nbviewer.org.</b></div><div class=\"sk-container\" hidden><div class=\"sk-item\"><div class=\"sk-estimator sk-toggleable\"><input class=\"sk-toggleable__control sk-hidden--visually\" id=\"sk-estimator-id-14\" type=\"checkbox\" checked><label for=\"sk-estimator-id-14\" class=\"sk-toggleable__label sk-toggleable__label-arrow\">LinearRegression</label><div class=\"sk-toggleable__content\"><pre>LinearRegression()</pre></div></div></div></div></div>"
            ]
          },
          "metadata": {},
          "execution_count": 177
        }
      ]
    },
    {
      "cell_type": "code",
      "source": [
        "y_pred=linear_regression.predict(X_test)"
      ],
      "metadata": {
        "id": "9TJNr_nU00LQ"
      },
      "execution_count": 178,
      "outputs": []
    },
    {
      "cell_type": "code",
      "source": [
        "from sklearn.metrics import mean_absolute_error"
      ],
      "metadata": {
        "id": "1MvW0qPE08aS"
      },
      "execution_count": 179,
      "outputs": []
    },
    {
      "cell_type": "code",
      "source": [
        "mean_absolute_error(y_test, y_pred)"
      ],
      "metadata": {
        "colab": {
          "base_uri": "https://localhost:8080/"
        },
        "id": "q90eR58P1WLF",
        "outputId": "4248741e-08ec-4ccc-b636-3da4c4f0d5c0"
      },
      "execution_count": 180,
      "outputs": [
        {
          "output_type": "execute_result",
          "data": {
            "text/plain": [
              "8.382613700933874"
            ]
          },
          "metadata": {},
          "execution_count": 180
        }
      ]
    },
    {
      "cell_type": "code",
      "source": [
        "from sklearn.decomposition import PCA\n",
        "pca = PCA(n_components=2)\n",
        "X_pca=pca.fit_transform(X)"
      ],
      "metadata": {
        "id": "E7Z4G8yj57TO"
      },
      "execution_count": 181,
      "outputs": []
    },
    {
      "cell_type": "code",
      "source": [
        "plt.figure(figsize=(8, 6))\n",
        "plt.scatter(X_pca[:, 0], X_pca[:, 1], color='blue', label='PCA Data')\n",
        "plt.title('PCA of Sample Data')\n",
        "plt.xlabel('Principal Component 1')\n",
        "plt.ylabel('Principal Component 2')\n",
        "plt.legend()\n",
        "plt.grid(True)\n",
        "plt.show()"
      ],
      "metadata": {
        "colab": {
          "base_uri": "https://localhost:8080/",
          "height": 564
        },
        "id": "zbzYrB9l7ZVc",
        "outputId": "2c43e4a9-24f5-454c-c03e-c35de88d410e"
      },
      "execution_count": 182,
      "outputs": [
        {
          "output_type": "display_data",
          "data": {
            "text/plain": [
              "<Figure size 800x600 with 1 Axes>"
            ],
            "image/png": "[encoded data removed]"
          },
          "metadata": {}
        }
      ]
    },
    {
      "cell_type": "code",
      "source": [
        "from sklearn.svm import SVR"
      ],
      "metadata": {
        "id": "XyYZbD-V8BSM"
      },
      "execution_count": 183,
      "outputs": []
    },
    {
      "cell_type": "code",
      "source": [
        "svr=SVR(kernel='rbf', C=1.0, epsilon=0.2)\n",
        "svr.fit(X_train, y_train)"
      ],
      "metadata": {
        "colab": {
          "base_uri": "https://localhost:8080/",
          "height": 74
        },
        "id": "5PI7SvB39ATt",
        "outputId": "e3956b15-baa6-4588-b12a-9ca67217b504"
      },
      "execution_count": 184,
      "outputs": [
        {
          "output_type": "execute_result",
          "data": {
            "text/plain": [
              "SVR(epsilon=0.2)"
            ],
            "text/html": [
              "<style>#sk-container-id-15 {color: black;background-color: white;}#sk-container-id-15 pre{padding: 0;}#sk-container-id-15 div.sk-toggleable {background-color: white;}#sk-container-id-15 label.sk-toggleable__label {cursor: pointer;display: block;width: 100%;margin-bottom: 0;padding: 0.3em;box-sizing: border-box;text-align: center;}#sk-container-id-15 label.sk-toggleable__label-arrow:before {content: \"▸\";float: left;margin-right: 0.25em;color: #696969;}#sk-container-id-15 label.sk-toggleable__label-arrow:hover:before {color: black;}#sk-container-id-15 div.sk-estimator:hover label.sk-toggleable__label-arrow:before {color: black;}#sk-container-id-15 div.sk-toggleable__content {max-height: 0;max-width: 0;overflow: hidden;text-align: left;background-color: #f0f8ff;}#sk-container-id-15 div.sk-toggleable__content pre {margin: 0.2em;color: black;border-radius: 0.25em;background-color: #f0f8ff;}#sk-container-id-15 input.sk-toggleable__control:checked~div.sk-toggleable__content {max-height: 200px;max-width: 100%;overflow: auto;}#sk-container-id-15 input.sk-toggleable__control:checked~label.sk-toggleable__label-arrow:before {content: \"▾\";}#sk-container-id-15 div.sk-estimator input.sk-toggleable__control:checked~label.sk-toggleable__label {background-color: #d4ebff;}#sk-container-id-15 div.sk-label input.sk-toggleable__control:checked~label.sk-toggleable__label {background-color: #d4ebff;}#sk-container-id-15 input.sk-hidden--visually {border: 0;clip: rect(1px 1px 1px 1px);clip: rect(1px, 1px, 1px, 1px);height: 1px;margin: -1px;overflow: hidden;padding: 0;position: absolute;width: 1px;}#sk-container-id-15 div.sk-estimator {font-family: monospace;background-color: #f0f8ff;border: 1px dotted black;border-radius: 0.25em;box-sizing: border-box;margin-bottom: 0.5em;}#sk-container-id-15 div.sk-estimator:hover {background-color: #d4ebff;}#sk-container-id-15 div.sk-parallel-item::after {content: \"\";width: 100%;border-bottom: 1px solid gray;flex-grow: 1;}#sk-container-id-15 div.sk-label:hover label.sk-toggleable__label {background-color: #d4ebff;}#sk-container-id-15 div.sk-serial::before {content: \"\";position: absolute;border-left: 1px solid gray;box-sizing: border-box;top: 0;bottom: 0;left: 50%;z-index: 0;}#sk-container-id-15 div.sk-serial {display: flex;flex-direction: column;align-items: center;background-color: white;padding-right: 0.2em;padding-left: 0.2em;position: relative;}#sk-container-id-15 div.sk-item {position: relative;z-index: 1;}#sk-container-id-15 div.sk-parallel {display: flex;align-items: stretch;justify-content: center;background-color: white;position: relative;}#sk-container-id-15 div.sk-item::before, #sk-container-id-15 div.sk-parallel-item::before {content: \"\";position: absolute;border-left: 1px solid gray;box-sizing: border-box;top: 0;bottom: 0;left: 50%;z-index: -1;}#sk-container-id-15 div.sk-parallel-item {display: flex;flex-direction: column;z-index: 1;position: relative;background-color: white;}#sk-container-id-15 div.sk-parallel-item:first-child::after {align-self: flex-end;width: 50%;}#sk-container-id-15 div.sk-parallel-item:last-child::after {align-self: flex-start;width: 50%;}#sk-container-id-15 div.sk-parallel-item:only-child::after {width: 0;}#sk-container-id-15 div.sk-dashed-wrapped {border: 1px dashed gray;margin: 0 0.4em 0.5em 0.4em;box-sizing: border-box;padding-bottom: 0.4em;background-color: white;}#sk-container-id-15 div.sk-label label {font-family: monospace;font-weight: bold;display: inline-block;line-height: 1.2em;}#sk-container-id-15 div.sk-label-container {text-align: center;}#sk-container-id-15 div.sk-container {/* jupyter's `normalize.less` sets `[hidden] { display: none; }` but bootstrap.min.css set `[hidden] { display: none !important; }` so we also need the `!important` here to be able to override the default hidden behavior on the sphinx rendered scikit-learn.org. See: https://github.com/scikit-learn/scikit-learn/issues/21755 */display: inline-block !important;position: relative;}#sk-container-id-15 div.sk-text-repr-fallback {display: none;}</style><div id=\"sk-container-id-15\" class=\"sk-top-container\"><div class=\"sk-text-repr-fallback\"><pre>SVR(epsilon=0.2)</pre><b>In a Jupyter environment, please rerun this cell to show the HTML representation or trust the notebook. <br />On GitHub, the HTML representation is unable to render, please try loading this page with nbviewer.org.</b></div><div class=\"sk-container\" hidden><div class=\"sk-item\"><div class=\"sk-estimator sk-toggleable\"><input class=\"sk-toggleable__control sk-hidden--visually\" id=\"sk-estimator-id-15\" type=\"checkbox\" checked><label for=\"sk-estimator-id-15\" class=\"sk-toggleable__label sk-toggleable__label-arrow\">SVR</label><div class=\"sk-toggleable__content\"><pre>SVR(epsilon=0.2)</pre></div></div></div></div></div>"
            ]
          },
          "metadata": {},
          "execution_count": 184
        }
      ]
    },
    {
      "cell_type": "code",
      "source": [
        "y_pred=svr.predict(X_test)"
      ],
      "metadata": {
        "id": "FFfndKOH9ULr"
      },
      "execution_count": 185,
      "outputs": []
    },
    {
      "cell_type": "code",
      "source": [
        "mean_absolute_error(y_test, y_pred)"
      ],
      "metadata": {
        "colab": {
          "base_uri": "https://localhost:8080/"
        },
        "id": "9ODWEbVK9Y-E",
        "outputId": "a151cf92-2531-4e3c-d0b1-a5c90530fd83"
      },
      "execution_count": 186,
      "outputs": [
        {
          "output_type": "execute_result",
          "data": {
            "text/plain": [
              "8.36861244975889"
            ]
          },
          "metadata": {},
          "execution_count": 186
        }
      ]
    },
    {
      "cell_type": "code",
      "source": [
        "from sklearn.ensemble import RandomForestRegressor"
      ],
      "metadata": {
        "id": "AGgl3UUn95EV"
      },
      "execution_count": 187,
      "outputs": []
    },
    {
      "cell_type": "code",
      "source": [
        "regr = RandomForestRegressor(max_depth=4, random_state=0)\n",
        "regr.fit(X_train, y_train)"
      ],
      "metadata": {
        "colab": {
          "base_uri": "https://localhost:8080/",
          "height": 74
        },
        "id": "WmVQvQMo-dS1",
        "outputId": "82e1c07c-1d23-4af9-963d-acde6c30c9e5"
      },
      "execution_count": 188,
      "outputs": [
        {
          "output_type": "execute_result",
          "data": {
            "text/plain": [
              "RandomForestRegressor(max_depth=4, random_state=0)"
            ],
            "text/html": [
              "<style>#sk-container-id-16 {color: black;background-color: white;}#sk-container-id-16 pre{padding: 0;}#sk-container-id-16 div.sk-toggleable {background-color: white;}#sk-container-id-16 label.sk-toggleable__label {cursor: pointer;display: block;width: 100%;margin-bottom: 0;padding: 0.3em;box-sizing: border-box;text-align: center;}#sk-container-id-16 label.sk-toggleable__label-arrow:before {content: \"▸\";float: left;margin-right: 0.25em;color: #696969;}#sk-container-id-16 label.sk-toggleable__label-arrow:hover:before {color: black;}#sk-container-id-16 div.sk-estimator:hover label.sk-toggleable__label-arrow:before {color: black;}#sk-container-id-16 div.sk-toggleable__content {max-height: 0;max-width: 0;overflow: hidden;text-align: left;background-color: #f0f8ff;}#sk-container-id-16 div.sk-toggleable__content pre {margin: 0.2em;color: black;border-radius: 0.25em;background-color: #f0f8ff;}#sk-container-id-16 input.sk-toggleable__control:checked~div.sk-toggleable__content {max-height: 200px;max-width: 100%;overflow: auto;}#sk-container-id-16 input.sk-toggleable__control:checked~label.sk-toggleable__label-arrow:before {content: \"▾\";}#sk-container-id-16 div.sk-estimator input.sk-toggleable__control:checked~label.sk-toggleable__label {background-color: #d4ebff;}#sk-container-id-16 div.sk-label input.sk-toggleable__control:checked~label.sk-toggleable__label {background-color: #d4ebff;}#sk-container-id-16 input.sk-hidden--visually {border: 0;clip: rect(1px 1px 1px 1px);clip: rect(1px, 1px, 1px, 1px);height: 1px;margin: -1px;overflow: hidden;padding: 0;position: absolute;width: 1px;}#sk-container-id-16 div.sk-estimator {font-family: monospace;background-color: #f0f8ff;border: 1px dotted black;border-radius: 0.25em;box-sizing: border-box;margin-bottom: 0.5em;}#sk-container-id-16 div.sk-estimator:hover {background-color: #d4ebff;}#sk-container-id-16 div.sk-parallel-item::after {content: \"\";width: 100%;border-bottom: 1px solid gray;flex-grow: 1;}#sk-container-id-16 div.sk-label:hover label.sk-toggleable__label {background-color: #d4ebff;}#sk-container-id-16 div.sk-serial::before {content: \"\";position: absolute;border-left: 1px solid gray;box-sizing: border-box;top: 0;bottom: 0;left: 50%;z-index: 0;}#sk-container-id-16 div.sk-serial {display: flex;flex-direction: column;align-items: center;background-color: white;padding-right: 0.2em;padding-left: 0.2em;position: relative;}#sk-container-id-16 div.sk-item {position: relative;z-index: 1;}#sk-container-id-16 div.sk-parallel {display: flex;align-items: stretch;justify-content: center;background-color: white;position: relative;}#sk-container-id-16 div.sk-item::before, #sk-container-id-16 div.sk-parallel-item::before {content: \"\";position: absolute;border-left: 1px solid gray;box-sizing: border-box;top: 0;bottom: 0;left: 50%;z-index: -1;}#sk-container-id-16 div.sk-parallel-item {display: flex;flex-direction: column;z-index: 1;position: relative;background-color: white;}#sk-container-id-16 div.sk-parallel-item:first-child::after {align-self: flex-end;width: 50%;}#sk-container-id-16 div.sk-parallel-item:last-child::after {align-self: flex-start;width: 50%;}#sk-container-id-16 div.sk-parallel-item:only-child::after {width: 0;}#sk-container-id-16 div.sk-dashed-wrapped {border: 1px dashed gray;margin: 0 0.4em 0.5em 0.4em;box-sizing: border-box;padding-bottom: 0.4em;background-color: white;}#sk-container-id-16 div.sk-label label {font-family: monospace;font-weight: bold;display: inline-block;line-height: 1.2em;}#sk-container-id-16 div.sk-label-container {text-align: center;}#sk-container-id-16 div.sk-container {/* jupyter's `normalize.less` sets `[hidden] { display: none; }` but bootstrap.min.css set `[hidden] { display: none !important; }` so we also need the `!important` here to be able to override the default hidden behavior on the sphinx rendered scikit-learn.org. See: https://github.com/scikit-learn/scikit-learn/issues/21755 */display: inline-block !important;position: relative;}#sk-container-id-16 div.sk-text-repr-fallback {display: none;}</style><div id=\"sk-container-id-16\" class=\"sk-top-container\"><div class=\"sk-text-repr-fallback\"><pre>RandomForestRegressor(max_depth=4, random_state=0)</pre><b>In a Jupyter environment, please rerun this cell to show the HTML representation or trust the notebook. <br />On GitHub, the HTML representation is unable to render, please try loading this page with nbviewer.org.</b></div><div class=\"sk-container\" hidden><div class=\"sk-item\"><div class=\"sk-estimator sk-toggleable\"><input class=\"sk-toggleable__control sk-hidden--visually\" id=\"sk-estimator-id-16\" type=\"checkbox\" checked><label for=\"sk-estimator-id-16\" class=\"sk-toggleable__label sk-toggleable__label-arrow\">RandomForestRegressor</label><div class=\"sk-toggleable__content\"><pre>RandomForestRegressor(max_depth=4, random_state=0)</pre></div></div></div></div></div>"
            ]
          },
          "metadata": {},
          "execution_count": 188
        }
      ]
    },
    {
      "cell_type": "code",
      "source": [
        "y_pred=regr.predict(X_test)"
      ],
      "metadata": {
        "id": "eu7hu0bq-rOe"
      },
      "execution_count": 189,
      "outputs": []
    },
    {
      "cell_type": "code",
      "source": [
        "mean_absolute_error(y_test, y_pred)"
      ],
      "metadata": {
        "colab": {
          "base_uri": "https://localhost:8080/"
        },
        "id": "7sJGftYp-w9y",
        "outputId": "c2699487-4f51-4ffe-908e-87c3f798da97"
      },
      "execution_count": 190,
      "outputs": [
        {
          "output_type": "execute_result",
          "data": {
            "text/plain": [
              "6.682209112122712"
            ]
          },
          "metadata": {},
          "execution_count": 190
        }
      ]
    },
    {
      "cell_type": "code",
      "source": [
        "import tensorflow as tf\n",
        "from tensorflow import keras"
      ],
      "metadata": {
        "id": "MNRp5dCV-zTe"
      },
      "execution_count": 191,
      "outputs": []
    },
    {
      "cell_type": "code",
      "source": [
        "model = keras.Sequential([\n",
        "    keras.layers.Dense(64, activation='relu', input_shape=(8,)),\n",
        "    keras.layers.Dense(32, activation='relu'),\n",
        "    keras.layers.Dense(1)\n",
        "])"
      ],
      "metadata": {
        "id": "aQoBsbeQ_fY7"
      },
      "execution_count": 192,
      "outputs": []
    },
    {
      "cell_type": "code",
      "source": [
        "model.compile(optimizer='adam', loss='mean_absolute_error')"
      ],
      "metadata": {
        "id": "-EQsMpNU_irh"
      },
      "execution_count": 193,
      "outputs": []
    },
    {
      "cell_type": "code",
      "source": [
        "history = model.fit(X_train, y_train, epochs=300, batch_size=16, validation_split=0.2)"
      ],
      "metadata": {
        "colab": {
          "base_uri": "https://localhost:8080/"
        },
        "id": "9RMvBV7K_oY-",
        "outputId": "e7bf9ae1-5882-47d2-b498-7c5296f8835b"
      },
      "execution_count": 194,
      "outputs": [
        {
          "output_type": "stream",
          "name": "stdout",
          "text": [
            "Epoch 1/300\n",
            "35/35 [==============================] - 1s 7ms/step - loss: 35.4645 - val_loss: 35.1282\n",
            "Epoch 2/300\n",
            "35/35 [==============================] - 0s 3ms/step - loss: 33.0521 - val_loss: 32.0284\n",
            "Epoch 3/300\n",
            "35/35 [==============================] - 0s 3ms/step - loss: 28.6432 - val_loss: 25.9411\n",
            "Epoch 4/300\n",
            "35/35 [==============================] - 0s 3ms/step - loss: 20.7352 - val_loss: 16.3559\n",
            "Epoch 5/300\n",
            "35/35 [==============================] - 0s 3ms/step - loss: 13.5884 - val_loss: 11.7912\n",
            "Epoch 6/300\n",
            "35/35 [==============================] - 0s 3ms/step - loss: 11.9033 - val_loss: 11.0914\n",
            "Epoch 7/300\n",
            "35/35 [==============================] - 0s 3ms/step - loss: 11.3131 - val_loss: 10.8922\n",
            "Epoch 8/300\n",
            "35/35 [==============================] - 0s 3ms/step - loss: 11.0041 - val_loss: 10.7333\n",
            "Epoch 9/300\n",
            "35/35 [==============================] - 0s 3ms/step - loss: 10.7263 - val_loss: 10.5117\n",
            "Epoch 10/300\n",
            "35/35 [==============================] - 0s 3ms/step - loss: 10.4890 - val_loss: 10.4378\n",
            "Epoch 11/300\n",
            "35/35 [==============================] - 0s 3ms/step - loss: 10.3238 - val_loss: 10.2730\n",
            "Epoch 12/300\n",
            "35/35 [==============================] - 0s 3ms/step - loss: 10.1162 - val_loss: 10.1026\n",
            "Epoch 13/300\n",
            "35/35 [==============================] - 0s 3ms/step - loss: 9.9832 - val_loss: 9.9778\n",
            "Epoch 14/300\n",
            "35/35 [==============================] - 0s 3ms/step - loss: 9.8338 - val_loss: 9.8424\n",
            "Epoch 15/300\n",
            "35/35 [==============================] - 0s 3ms/step - loss: 9.7358 - val_loss: 9.8903\n",
            "Epoch 16/300\n",
            "35/35 [==============================] - 0s 3ms/step - loss: 9.6349 - val_loss: 9.7755\n",
            "Epoch 17/300\n",
            "35/35 [==============================] - 0s 3ms/step - loss: 9.5282 - val_loss: 9.6298\n",
            "Epoch 18/300\n",
            "35/35 [==============================] - 0s 3ms/step - loss: 9.4817 - val_loss: 9.5092\n",
            "Epoch 19/300\n",
            "35/35 [==============================] - 0s 3ms/step - loss: 9.3624 - val_loss: 9.5228\n",
            "Epoch 20/300\n",
            "35/35 [==============================] - 0s 3ms/step - loss: 9.2957 - val_loss: 9.4810\n",
            "Epoch 21/300\n",
            "35/35 [==============================] - 0s 3ms/step - loss: 9.2309 - val_loss: 9.3238\n",
            "Epoch 22/300\n",
            "35/35 [==============================] - 0s 3ms/step - loss: 9.1409 - val_loss: 9.3484\n",
            "Epoch 23/300\n",
            "35/35 [==============================] - 0s 3ms/step - loss: 9.0882 - val_loss: 9.2358\n",
            "Epoch 24/300\n",
            "35/35 [==============================] - 0s 3ms/step - loss: 8.9950 - val_loss: 9.3005\n",
            "Epoch 25/300\n",
            "35/35 [==============================] - 0s 3ms/step - loss: 8.9246 - val_loss: 9.1421\n",
            "Epoch 26/300\n",
            "35/35 [==============================] - 0s 4ms/step - loss: 8.8536 - val_loss: 9.1120\n",
            "Epoch 27/300\n",
            "35/35 [==============================] - 0s 3ms/step - loss: 8.7701 - val_loss: 8.9672\n",
            "Epoch 28/300\n",
            "35/35 [==============================] - 0s 3ms/step - loss: 8.6968 - val_loss: 8.9892\n",
            "Epoch 29/300\n",
            "35/35 [==============================] - 0s 3ms/step - loss: 8.6644 - val_loss: 8.9528\n",
            "Epoch 30/300\n",
            "35/35 [==============================] - 0s 3ms/step - loss: 8.5523 - val_loss: 8.8398\n",
            "Epoch 31/300\n",
            "35/35 [==============================] - 0s 3ms/step - loss: 8.4805 - val_loss: 8.8277\n",
            "Epoch 32/300\n",
            "35/35 [==============================] - 0s 3ms/step - loss: 8.3947 - val_loss: 8.8197\n",
            "Epoch 33/300\n",
            "35/35 [==============================] - 0s 3ms/step - loss: 8.3094 - val_loss: 8.5886\n",
            "Epoch 34/300\n",
            "35/35 [==============================] - 0s 3ms/step - loss: 8.2022 - val_loss: 8.5471\n",
            "Epoch 35/300\n",
            "35/35 [==============================] - 0s 3ms/step - loss: 8.0803 - val_loss: 8.3769\n",
            "Epoch 36/300\n",
            "35/35 [==============================] - 0s 3ms/step - loss: 8.0081 - val_loss: 8.3596\n",
            "Epoch 37/300\n",
            "35/35 [==============================] - 0s 3ms/step - loss: 7.8909 - val_loss: 8.1506\n",
            "Epoch 38/300\n",
            "35/35 [==============================] - 0s 3ms/step - loss: 7.7037 - val_loss: 8.2111\n",
            "Epoch 39/300\n",
            "35/35 [==============================] - 0s 3ms/step - loss: 7.6002 - val_loss: 7.8510\n",
            "Epoch 40/300\n",
            "35/35 [==============================] - 0s 3ms/step - loss: 7.3966 - val_loss: 7.9610\n",
            "Epoch 41/300\n",
            "35/35 [==============================] - 0s 3ms/step - loss: 7.2672 - val_loss: 7.5915\n",
            "Epoch 42/300\n",
            "35/35 [==============================] - 0s 3ms/step - loss: 7.0590 - val_loss: 7.4066\n",
            "Epoch 43/300\n",
            "35/35 [==============================] - 0s 3ms/step - loss: 6.9334 - val_loss: 7.1713\n",
            "Epoch 44/300\n",
            "35/35 [==============================] - 0s 3ms/step - loss: 6.7058 - val_loss: 7.1800\n",
            "Epoch 45/300\n",
            "35/35 [==============================] - 0s 3ms/step - loss: 6.5426 - val_loss: 6.9579\n",
            "Epoch 46/300\n",
            "35/35 [==============================] - 0s 3ms/step - loss: 6.3706 - val_loss: 6.8991\n",
            "Epoch 47/300\n",
            "35/35 [==============================] - 0s 3ms/step - loss: 6.2492 - val_loss: 6.7596\n",
            "Epoch 48/300\n",
            "35/35 [==============================] - 0s 3ms/step - loss: 6.0742 - val_loss: 6.6533\n",
            "Epoch 49/300\n",
            "35/35 [==============================] - 0s 3ms/step - loss: 6.0257 - val_loss: 6.5378\n",
            "Epoch 50/300\n",
            "35/35 [==============================] - 0s 3ms/step - loss: 5.8516 - val_loss: 6.5253\n",
            "Epoch 51/300\n",
            "35/35 [==============================] - 0s 3ms/step - loss: 5.7645 - val_loss: 6.5319\n",
            "Epoch 52/300\n",
            "35/35 [==============================] - 0s 3ms/step - loss: 5.6371 - val_loss: 6.1857\n",
            "Epoch 53/300\n",
            "35/35 [==============================] - 0s 3ms/step - loss: 5.6126 - val_loss: 6.2269\n",
            "Epoch 54/300\n",
            "35/35 [==============================] - 0s 3ms/step - loss: 5.5181 - val_loss: 6.0771\n",
            "Epoch 55/300\n",
            "35/35 [==============================] - 0s 3ms/step - loss: 5.3977 - val_loss: 5.9098\n",
            "Epoch 56/300\n",
            "35/35 [==============================] - 0s 3ms/step - loss: 5.2530 - val_loss: 5.8754\n",
            "Epoch 57/300\n",
            "35/35 [==============================] - 0s 3ms/step - loss: 5.1822 - val_loss: 5.8862\n",
            "Epoch 58/300\n",
            "35/35 [==============================] - 0s 3ms/step - loss: 5.1763 - val_loss: 5.7835\n",
            "Epoch 59/300\n",
            "35/35 [==============================] - 0s 3ms/step - loss: 5.0409 - val_loss: 5.8566\n",
            "Epoch 60/300\n",
            "35/35 [==============================] - 0s 3ms/step - loss: 4.9792 - val_loss: 5.6315\n",
            "Epoch 61/300\n",
            "35/35 [==============================] - 0s 3ms/step - loss: 4.9225 - val_loss: 5.5982\n",
            "Epoch 62/300\n",
            "35/35 [==============================] - 0s 3ms/step - loss: 4.9574 - val_loss: 5.6763\n",
            "Epoch 63/300\n",
            "35/35 [==============================] - 0s 3ms/step - loss: 4.8563 - val_loss: 5.4588\n",
            "Epoch 64/300\n",
            "35/35 [==============================] - 0s 3ms/step - loss: 4.8164 - val_loss: 5.4786\n",
            "Epoch 65/300\n",
            "35/35 [==============================] - 0s 3ms/step - loss: 4.7818 - val_loss: 5.4915\n",
            "Epoch 66/300\n",
            "35/35 [==============================] - 0s 3ms/step - loss: 4.7728 - val_loss: 5.5046\n",
            "Epoch 67/300\n",
            "35/35 [==============================] - 0s 3ms/step - loss: 4.6794 - val_loss: 5.2855\n",
            "Epoch 68/300\n",
            "35/35 [==============================] - 0s 3ms/step - loss: 4.6446 - val_loss: 5.3371\n",
            "Epoch 69/300\n",
            "35/35 [==============================] - 0s 3ms/step - loss: 4.5968 - val_loss: 5.5372\n",
            "Epoch 70/300\n",
            "35/35 [==============================] - 0s 3ms/step - loss: 4.7093 - val_loss: 5.1994\n",
            "Epoch 71/300\n",
            "35/35 [==============================] - 0s 4ms/step - loss: 4.6367 - val_loss: 5.2413\n",
            "Epoch 72/300\n",
            "35/35 [==============================] - 0s 5ms/step - loss: 4.5228 - val_loss: 5.3093\n",
            "Epoch 73/300\n",
            "35/35 [==============================] - 0s 4ms/step - loss: 4.4991 - val_loss: 5.1797\n",
            "Epoch 74/300\n",
            "35/35 [==============================] - 0s 4ms/step - loss: 4.4903 - val_loss: 5.2279\n",
            "Epoch 75/300\n",
            "35/35 [==============================] - 0s 4ms/step - loss: 4.4563 - val_loss: 5.2263\n",
            "Epoch 76/300\n",
            "35/35 [==============================] - 0s 4ms/step - loss: 4.4419 - val_loss: 5.0460\n",
            "Epoch 77/300\n",
            "35/35 [==============================] - 0s 6ms/step - loss: 4.4609 - val_loss: 5.1280\n",
            "Epoch 78/300\n",
            "35/35 [==============================] - 0s 4ms/step - loss: 4.4263 - val_loss: 5.0795\n",
            "Epoch 79/300\n",
            "35/35 [==============================] - 0s 4ms/step - loss: 4.4437 - val_loss: 5.1068\n",
            "Epoch 80/300\n",
            "35/35 [==============================] - 0s 4ms/step - loss: 4.3701 - val_loss: 5.0712\n",
            "Epoch 81/300\n",
            "35/35 [==============================] - 0s 4ms/step - loss: 4.3755 - val_loss: 4.9949\n",
            "Epoch 82/300\n",
            "35/35 [==============================] - 0s 4ms/step - loss: 4.3656 - val_loss: 5.0368\n",
            "Epoch 83/300\n",
            "35/35 [==============================] - 0s 4ms/step - loss: 4.3236 - val_loss: 5.0098\n",
            "Epoch 84/300\n",
            "35/35 [==============================] - 0s 4ms/step - loss: 4.2733 - val_loss: 5.0105\n",
            "Epoch 85/300\n",
            "35/35 [==============================] - 0s 5ms/step - loss: 4.2504 - val_loss: 5.1023\n",
            "Epoch 86/300\n",
            "35/35 [==============================] - 0s 4ms/step - loss: 4.2695 - val_loss: 4.9336\n",
            "Epoch 87/300\n",
            "35/35 [==============================] - 0s 4ms/step - loss: 4.2608 - val_loss: 4.9974\n",
            "Epoch 88/300\n",
            "35/35 [==============================] - 0s 3ms/step - loss: 4.2737 - val_loss: 5.0763\n",
            "Epoch 89/300\n",
            "35/35 [==============================] - 0s 3ms/step - loss: 4.2929 - val_loss: 5.0285\n",
            "Epoch 90/300\n",
            "35/35 [==============================] - 0s 3ms/step - loss: 4.2618 - val_loss: 5.0448\n",
            "Epoch 91/300\n",
            "35/35 [==============================] - 0s 3ms/step - loss: 4.2343 - val_loss: 5.0261\n",
            "Epoch 92/300\n",
            "35/35 [==============================] - 0s 3ms/step - loss: 4.2045 - val_loss: 4.8691\n",
            "Epoch 93/300\n",
            "35/35 [==============================] - 0s 3ms/step - loss: 4.1593 - val_loss: 4.8054\n",
            "Epoch 94/300\n",
            "35/35 [==============================] - 0s 4ms/step - loss: 4.1585 - val_loss: 4.9350\n",
            "Epoch 95/300\n",
            "35/35 [==============================] - 0s 3ms/step - loss: 4.1360 - val_loss: 4.8342\n",
            "Epoch 96/300\n",
            "35/35 [==============================] - 0s 3ms/step - loss: 4.1494 - val_loss: 4.7896\n",
            "Epoch 97/300\n",
            "35/35 [==============================] - 0s 3ms/step - loss: 4.0969 - val_loss: 4.7996\n",
            "Epoch 98/300\n",
            "35/35 [==============================] - 0s 3ms/step - loss: 4.0991 - val_loss: 4.8517\n",
            "Epoch 99/300\n",
            "35/35 [==============================] - 0s 3ms/step - loss: 4.0730 - val_loss: 4.7988\n",
            "Epoch 100/300\n",
            "35/35 [==============================] - 0s 3ms/step - loss: 4.0689 - val_loss: 4.8297\n",
            "Epoch 101/300\n",
            "35/35 [==============================] - 0s 3ms/step - loss: 4.1031 - val_loss: 4.7911\n",
            "Epoch 102/300\n",
            "35/35 [==============================] - 0s 3ms/step - loss: 4.0523 - val_loss: 4.8315\n",
            "Epoch 103/300\n",
            "35/35 [==============================] - 0s 3ms/step - loss: 4.0460 - val_loss: 4.7335\n",
            "Epoch 104/300\n",
            "35/35 [==============================] - 0s 3ms/step - loss: 4.0178 - val_loss: 4.9091\n",
            "Epoch 105/300\n",
            "35/35 [==============================] - 0s 3ms/step - loss: 4.0549 - val_loss: 4.6957\n",
            "Epoch 106/300\n",
            "35/35 [==============================] - 0s 3ms/step - loss: 4.0531 - val_loss: 4.7544\n",
            "Epoch 107/300\n",
            "35/35 [==============================] - 0s 3ms/step - loss: 3.9865 - val_loss: 4.8148\n",
            "Epoch 108/300\n",
            "35/35 [==============================] - 0s 3ms/step - loss: 3.9726 - val_loss: 4.7082\n",
            "Epoch 109/300\n",
            "35/35 [==============================] - 0s 3ms/step - loss: 4.0044 - val_loss: 4.8072\n",
            "Epoch 110/300\n",
            "35/35 [==============================] - 0s 3ms/step - loss: 4.0424 - val_loss: 4.7898\n",
            "Epoch 111/300\n",
            "35/35 [==============================] - 0s 3ms/step - loss: 3.9910 - val_loss: 4.8041\n",
            "Epoch 112/300\n",
            "35/35 [==============================] - 0s 3ms/step - loss: 3.9460 - val_loss: 4.6399\n",
            "Epoch 113/300\n",
            "35/35 [==============================] - 0s 3ms/step - loss: 3.9386 - val_loss: 4.7877\n",
            "Epoch 114/300\n",
            "35/35 [==============================] - 0s 3ms/step - loss: 3.9369 - val_loss: 4.6829\n",
            "Epoch 115/300\n",
            "35/35 [==============================] - 0s 3ms/step - loss: 3.9434 - val_loss: 4.6497\n",
            "Epoch 116/300\n",
            "35/35 [==============================] - 0s 3ms/step - loss: 3.9161 - val_loss: 4.6859\n",
            "Epoch 117/300\n",
            "35/35 [==============================] - 0s 3ms/step - loss: 3.8901 - val_loss: 4.5630\n",
            "Epoch 118/300\n",
            "35/35 [==============================] - 0s 3ms/step - loss: 3.9460 - val_loss: 4.6084\n",
            "Epoch 119/300\n",
            "35/35 [==============================] - 0s 3ms/step - loss: 3.9010 - val_loss: 4.6330\n",
            "Epoch 120/300\n",
            "35/35 [==============================] - 0s 3ms/step - loss: 3.8876 - val_loss: 4.5712\n",
            "Epoch 121/300\n",
            "35/35 [==============================] - 0s 3ms/step - loss: 3.8684 - val_loss: 4.6976\n",
            "Epoch 122/300\n",
            "35/35 [==============================] - 0s 3ms/step - loss: 3.9263 - val_loss: 4.5993\n",
            "Epoch 123/300\n",
            "35/35 [==============================] - 0s 3ms/step - loss: 3.8736 - val_loss: 4.6611\n",
            "Epoch 124/300\n",
            "35/35 [==============================] - 0s 3ms/step - loss: 3.8821 - val_loss: 4.6082\n",
            "Epoch 125/300\n",
            "35/35 [==============================] - 0s 3ms/step - loss: 3.8838 - val_loss: 4.6087\n",
            "Epoch 126/300\n",
            "35/35 [==============================] - 0s 3ms/step - loss: 3.8582 - val_loss: 4.7935\n",
            "Epoch 127/300\n",
            "35/35 [==============================] - 0s 3ms/step - loss: 3.8581 - val_loss: 4.6512\n",
            "Epoch 128/300\n",
            "35/35 [==============================] - 0s 3ms/step - loss: 3.8516 - val_loss: 4.6482\n",
            "Epoch 129/300\n",
            "35/35 [==============================] - 0s 3ms/step - loss: 3.8447 - val_loss: 4.6477\n",
            "Epoch 130/300\n",
            "35/35 [==============================] - 0s 3ms/step - loss: 3.8131 - val_loss: 4.6471\n",
            "Epoch 131/300\n",
            "35/35 [==============================] - 0s 3ms/step - loss: 3.8415 - val_loss: 4.5347\n",
            "Epoch 132/300\n",
            "35/35 [==============================] - 0s 3ms/step - loss: 3.8014 - val_loss: 4.5508\n",
            "Epoch 133/300\n",
            "35/35 [==============================] - 0s 3ms/step - loss: 3.8041 - val_loss: 4.5586\n",
            "Epoch 134/300\n",
            "35/35 [==============================] - 0s 3ms/step - loss: 3.8287 - val_loss: 4.5130\n",
            "Epoch 135/300\n",
            "35/35 [==============================] - 0s 3ms/step - loss: 3.7600 - val_loss: 4.4965\n",
            "Epoch 136/300\n",
            "35/35 [==============================] - 0s 3ms/step - loss: 3.7833 - val_loss: 4.5833\n",
            "Epoch 137/300\n",
            "35/35 [==============================] - 0s 3ms/step - loss: 3.7585 - val_loss: 4.5424\n",
            "Epoch 138/300\n",
            "35/35 [==============================] - 0s 3ms/step - loss: 3.7761 - val_loss: 4.6733\n",
            "Epoch 139/300\n",
            "35/35 [==============================] - 0s 3ms/step - loss: 3.7701 - val_loss: 4.5960\n",
            "Epoch 140/300\n",
            "35/35 [==============================] - 0s 3ms/step - loss: 3.8001 - val_loss: 4.6180\n",
            "Epoch 141/300\n",
            "35/35 [==============================] - 0s 3ms/step - loss: 3.7771 - val_loss: 4.4690\n",
            "Epoch 142/300\n",
            "35/35 [==============================] - 0s 3ms/step - loss: 3.7547 - val_loss: 4.4564\n",
            "Epoch 143/300\n",
            "35/35 [==============================] - 0s 3ms/step - loss: 3.7115 - val_loss: 4.7071\n",
            "Epoch 144/300\n",
            "35/35 [==============================] - 0s 3ms/step - loss: 3.7826 - val_loss: 4.5152\n",
            "Epoch 145/300\n",
            "35/35 [==============================] - 0s 3ms/step - loss: 3.7600 - val_loss: 4.5417\n",
            "Epoch 146/300\n",
            "35/35 [==============================] - 0s 3ms/step - loss: 3.7273 - val_loss: 4.6399\n",
            "Epoch 147/300\n",
            "35/35 [==============================] - 0s 3ms/step - loss: 3.7162 - val_loss: 4.4126\n",
            "Epoch 148/300\n",
            "35/35 [==============================] - 0s 3ms/step - loss: 3.7108 - val_loss: 4.4722\n",
            "Epoch 149/300\n",
            "35/35 [==============================] - 0s 3ms/step - loss: 3.7047 - val_loss: 4.5594\n",
            "Epoch 150/300\n",
            "35/35 [==============================] - 0s 3ms/step - loss: 3.6310 - val_loss: 4.3697\n",
            "Epoch 151/300\n",
            "35/35 [==============================] - 0s 3ms/step - loss: 3.6924 - val_loss: 4.3902\n",
            "Epoch 152/300\n",
            "35/35 [==============================] - 0s 3ms/step - loss: 3.6438 - val_loss: 4.4997\n",
            "Epoch 153/300\n",
            "35/35 [==============================] - 0s 3ms/step - loss: 3.6839 - val_loss: 4.4349\n",
            "Epoch 154/300\n",
            "35/35 [==============================] - 0s 3ms/step - loss: 3.6764 - val_loss: 4.5488\n",
            "Epoch 155/300\n",
            "35/35 [==============================] - 0s 3ms/step - loss: 3.6380 - val_loss: 4.3694\n",
            "Epoch 156/300\n",
            "35/35 [==============================] - 0s 3ms/step - loss: 3.6439 - val_loss: 4.4825\n",
            "Epoch 157/300\n",
            "35/35 [==============================] - 0s 3ms/step - loss: 3.6580 - val_loss: 4.3682\n",
            "Epoch 158/300\n",
            "35/35 [==============================] - 0s 3ms/step - loss: 3.6422 - val_loss: 4.3978\n",
            "Epoch 159/300\n",
            "35/35 [==============================] - 0s 3ms/step - loss: 3.6159 - val_loss: 4.3354\n",
            "Epoch 160/300\n",
            "35/35 [==============================] - 0s 3ms/step - loss: 3.5702 - val_loss: 4.3882\n",
            "Epoch 161/300\n",
            "35/35 [==============================] - 0s 3ms/step - loss: 3.6075 - val_loss: 4.3957\n",
            "Epoch 162/300\n",
            "35/35 [==============================] - 0s 3ms/step - loss: 3.6188 - val_loss: 4.4278\n",
            "Epoch 163/300\n",
            "35/35 [==============================] - 0s 3ms/step - loss: 3.5935 - val_loss: 4.5187\n",
            "Epoch 164/300\n",
            "35/35 [==============================] - 0s 3ms/step - loss: 3.6182 - val_loss: 4.3105\n",
            "Epoch 165/300\n",
            "35/35 [==============================] - 0s 3ms/step - loss: 3.6105 - val_loss: 4.3912\n",
            "Epoch 166/300\n",
            "35/35 [==============================] - 0s 3ms/step - loss: 3.5877 - val_loss: 4.3925\n",
            "Epoch 167/300\n",
            "35/35 [==============================] - 0s 3ms/step - loss: 3.5836 - val_loss: 4.4354\n",
            "Epoch 168/300\n",
            "35/35 [==============================] - 0s 3ms/step - loss: 3.6445 - val_loss: 4.4096\n",
            "Epoch 169/300\n",
            "35/35 [==============================] - 0s 3ms/step - loss: 3.5386 - val_loss: 4.3400\n",
            "Epoch 170/300\n",
            "35/35 [==============================] - 0s 3ms/step - loss: 3.5744 - val_loss: 4.3854\n",
            "Epoch 171/300\n",
            "35/35 [==============================] - 0s 3ms/step - loss: 3.6682 - val_loss: 4.5086\n",
            "Epoch 172/300\n",
            "35/35 [==============================] - 0s 3ms/step - loss: 3.6323 - val_loss: 4.4670\n",
            "Epoch 173/300\n",
            "35/35 [==============================] - 0s 3ms/step - loss: 3.5232 - val_loss: 4.3314\n",
            "Epoch 174/300\n",
            "35/35 [==============================] - 0s 3ms/step - loss: 3.4995 - val_loss: 4.3451\n",
            "Epoch 175/300\n",
            "35/35 [==============================] - 0s 3ms/step - loss: 3.5182 - val_loss: 4.3997\n",
            "Epoch 176/300\n",
            "35/35 [==============================] - 0s 3ms/step - loss: 3.5520 - val_loss: 4.2930\n",
            "Epoch 177/300\n",
            "35/35 [==============================] - 0s 3ms/step - loss: 3.4798 - val_loss: 4.5016\n",
            "Epoch 178/300\n",
            "35/35 [==============================] - 0s 4ms/step - loss: 3.5443 - val_loss: 4.3011\n",
            "Epoch 179/300\n",
            "35/35 [==============================] - 0s 5ms/step - loss: 3.5028 - val_loss: 4.3718\n",
            "Epoch 180/300\n",
            "35/35 [==============================] - 0s 5ms/step - loss: 3.5289 - val_loss: 4.3739\n",
            "Epoch 181/300\n",
            "35/35 [==============================] - 0s 4ms/step - loss: 3.4765 - val_loss: 4.2908\n",
            "Epoch 182/300\n",
            "35/35 [==============================] - 0s 5ms/step - loss: 3.4691 - val_loss: 4.4071\n",
            "Epoch 183/300\n",
            "35/35 [==============================] - 0s 4ms/step - loss: 3.5058 - val_loss: 4.4353\n",
            "Epoch 184/300\n",
            "35/35 [==============================] - 0s 6ms/step - loss: 3.4840 - val_loss: 4.2282\n",
            "Epoch 185/300\n",
            "35/35 [==============================] - 0s 5ms/step - loss: 3.4506 - val_loss: 4.2553\n",
            "Epoch 186/300\n",
            "35/35 [==============================] - 0s 4ms/step - loss: 3.5443 - val_loss: 4.3160\n",
            "Epoch 187/300\n",
            "35/35 [==============================] - 0s 4ms/step - loss: 3.4314 - val_loss: 4.2413\n",
            "Epoch 188/300\n",
            "35/35 [==============================] - 0s 5ms/step - loss: 3.4050 - val_loss: 4.2803\n",
            "Epoch 189/300\n",
            "35/35 [==============================] - 0s 5ms/step - loss: 3.4154 - val_loss: 4.2762\n",
            "Epoch 190/300\n",
            "35/35 [==============================] - 0s 6ms/step - loss: 3.4413 - val_loss: 4.2042\n",
            "Epoch 191/300\n",
            "35/35 [==============================] - 0s 6ms/step - loss: 3.3935 - val_loss: 4.4114\n",
            "Epoch 192/300\n",
            "35/35 [==============================] - 0s 5ms/step - loss: 3.4619 - val_loss: 4.3124\n",
            "Epoch 193/300\n",
            "35/35 [==============================] - 0s 4ms/step - loss: 3.4260 - val_loss: 4.4010\n",
            "Epoch 194/300\n",
            "35/35 [==============================] - 0s 3ms/step - loss: 3.4693 - val_loss: 4.3887\n",
            "Epoch 195/300\n",
            "35/35 [==============================] - 0s 3ms/step - loss: 3.4439 - val_loss: 4.3083\n",
            "Epoch 196/300\n",
            "35/35 [==============================] - 0s 3ms/step - loss: 3.4600 - val_loss: 4.1331\n",
            "Epoch 197/300\n",
            "35/35 [==============================] - 0s 3ms/step - loss: 3.3780 - val_loss: 4.2656\n",
            "Epoch 198/300\n",
            "35/35 [==============================] - 0s 3ms/step - loss: 3.4302 - val_loss: 4.3542\n",
            "Epoch 199/300\n",
            "35/35 [==============================] - 0s 3ms/step - loss: 3.3684 - val_loss: 4.2996\n",
            "Epoch 200/300\n",
            "35/35 [==============================] - 0s 3ms/step - loss: 3.3779 - val_loss: 4.2959\n",
            "Epoch 201/300\n",
            "35/35 [==============================] - 0s 3ms/step - loss: 3.3586 - val_loss: 4.3216\n",
            "Epoch 202/300\n",
            "35/35 [==============================] - 0s 3ms/step - loss: 3.3434 - val_loss: 4.3284\n",
            "Epoch 203/300\n",
            "35/35 [==============================] - 0s 3ms/step - loss: 3.3753 - val_loss: 4.3336\n",
            "Epoch 204/300\n",
            "35/35 [==============================] - 0s 3ms/step - loss: 3.3544 - val_loss: 4.3251\n",
            "Epoch 205/300\n",
            "35/35 [==============================] - 0s 3ms/step - loss: 3.3519 - val_loss: 4.3691\n",
            "Epoch 206/300\n",
            "35/35 [==============================] - 0s 3ms/step - loss: 3.4065 - val_loss: 4.1799\n",
            "Epoch 207/300\n",
            "35/35 [==============================] - 0s 3ms/step - loss: 3.3081 - val_loss: 4.3985\n",
            "Epoch 208/300\n",
            "35/35 [==============================] - 0s 3ms/step - loss: 3.4053 - val_loss: 4.3044\n",
            "Epoch 209/300\n",
            "35/35 [==============================] - 0s 3ms/step - loss: 3.3355 - val_loss: 4.2791\n",
            "Epoch 210/300\n",
            "35/35 [==============================] - 0s 3ms/step - loss: 3.3056 - val_loss: 4.2836\n",
            "Epoch 211/300\n",
            "35/35 [==============================] - 0s 4ms/step - loss: 3.3706 - val_loss: 4.3164\n",
            "Epoch 212/300\n",
            "35/35 [==============================] - 0s 3ms/step - loss: 3.3205 - val_loss: 4.3003\n",
            "Epoch 213/300\n",
            "35/35 [==============================] - 0s 3ms/step - loss: 3.3120 - val_loss: 4.2552\n",
            "Epoch 214/300\n",
            "35/35 [==============================] - 0s 3ms/step - loss: 3.2795 - val_loss: 4.2501\n",
            "Epoch 215/300\n",
            "35/35 [==============================] - 0s 3ms/step - loss: 3.3373 - val_loss: 4.1222\n",
            "Epoch 216/300\n",
            "35/35 [==============================] - 0s 3ms/step - loss: 3.3190 - val_loss: 4.2079\n",
            "Epoch 217/300\n",
            "35/35 [==============================] - 0s 3ms/step - loss: 3.3189 - val_loss: 4.2205\n",
            "Epoch 218/300\n",
            "35/35 [==============================] - 0s 3ms/step - loss: 3.3116 - val_loss: 4.2663\n",
            "Epoch 219/300\n",
            "35/35 [==============================] - 0s 3ms/step - loss: 3.2988 - val_loss: 4.3065\n",
            "Epoch 220/300\n",
            "35/35 [==============================] - 0s 3ms/step - loss: 3.2915 - val_loss: 4.3509\n",
            "Epoch 221/300\n",
            "35/35 [==============================] - 0s 3ms/step - loss: 3.2690 - val_loss: 4.2227\n",
            "Epoch 222/300\n",
            "35/35 [==============================] - 0s 3ms/step - loss: 3.2897 - val_loss: 4.1587\n",
            "Epoch 223/300\n",
            "35/35 [==============================] - 0s 3ms/step - loss: 3.2337 - val_loss: 4.2508\n",
            "Epoch 224/300\n",
            "35/35 [==============================] - 0s 3ms/step - loss: 3.2365 - val_loss: 4.1596\n",
            "Epoch 225/300\n",
            "35/35 [==============================] - 0s 3ms/step - loss: 3.2218 - val_loss: 4.2613\n",
            "Epoch 226/300\n",
            "35/35 [==============================] - 0s 3ms/step - loss: 3.2463 - val_loss: 4.3064\n",
            "Epoch 227/300\n",
            "35/35 [==============================] - 0s 3ms/step - loss: 3.2563 - val_loss: 4.2824\n",
            "Epoch 228/300\n",
            "35/35 [==============================] - 0s 3ms/step - loss: 3.2611 - val_loss: 4.3748\n",
            "Epoch 229/300\n",
            "35/35 [==============================] - 0s 3ms/step - loss: 3.2464 - val_loss: 4.1457\n",
            "Epoch 230/300\n",
            "35/35 [==============================] - 0s 3ms/step - loss: 3.2051 - val_loss: 4.3424\n",
            "Epoch 231/300\n",
            "35/35 [==============================] - 0s 3ms/step - loss: 3.2400 - val_loss: 4.2020\n",
            "Epoch 232/300\n",
            "35/35 [==============================] - 0s 3ms/step - loss: 3.2394 - val_loss: 4.3465\n",
            "Epoch 233/300\n",
            "35/35 [==============================] - 0s 3ms/step - loss: 3.1627 - val_loss: 4.2321\n",
            "Epoch 234/300\n",
            "35/35 [==============================] - 0s 3ms/step - loss: 3.1765 - val_loss: 4.3139\n",
            "Epoch 235/300\n",
            "35/35 [==============================] - 0s 3ms/step - loss: 3.2592 - val_loss: 4.2659\n",
            "Epoch 236/300\n",
            "35/35 [==============================] - 0s 3ms/step - loss: 3.1511 - val_loss: 4.1682\n",
            "Epoch 237/300\n",
            "35/35 [==============================] - 0s 3ms/step - loss: 3.2497 - val_loss: 4.4306\n",
            "Epoch 238/300\n",
            "35/35 [==============================] - 0s 3ms/step - loss: 3.2054 - val_loss: 4.2386\n",
            "Epoch 239/300\n",
            "35/35 [==============================] - 0s 3ms/step - loss: 3.1609 - val_loss: 4.3560\n",
            "Epoch 240/300\n",
            "35/35 [==============================] - 0s 3ms/step - loss: 3.1422 - val_loss: 4.2207\n",
            "Epoch 241/300\n",
            "35/35 [==============================] - 0s 3ms/step - loss: 3.1518 - val_loss: 4.1459\n",
            "Epoch 242/300\n",
            "35/35 [==============================] - 0s 3ms/step - loss: 3.1202 - val_loss: 4.1667\n",
            "Epoch 243/300\n",
            "35/35 [==============================] - 0s 3ms/step - loss: 3.1669 - val_loss: 4.2829\n",
            "Epoch 244/300\n",
            "35/35 [==============================] - 0s 3ms/step - loss: 3.1657 - val_loss: 4.1648\n",
            "Epoch 245/300\n",
            "35/35 [==============================] - 0s 3ms/step - loss: 3.1415 - val_loss: 4.4153\n",
            "Epoch 246/300\n",
            "35/35 [==============================] - 0s 3ms/step - loss: 3.1862 - val_loss: 4.2652\n",
            "Epoch 247/300\n",
            "35/35 [==============================] - 0s 3ms/step - loss: 3.1351 - val_loss: 4.2882\n",
            "Epoch 248/300\n",
            "35/35 [==============================] - 0s 3ms/step - loss: 3.1030 - val_loss: 4.3013\n",
            "Epoch 249/300\n",
            "35/35 [==============================] - 0s 3ms/step - loss: 3.1037 - val_loss: 4.2108\n",
            "Epoch 250/300\n",
            "35/35 [==============================] - 0s 3ms/step - loss: 3.1097 - val_loss: 4.2728\n",
            "Epoch 251/300\n",
            "35/35 [==============================] - 0s 3ms/step - loss: 3.1270 - val_loss: 4.1247\n",
            "Epoch 252/300\n",
            "35/35 [==============================] - 0s 4ms/step - loss: 3.1615 - val_loss: 4.1808\n",
            "Epoch 253/300\n",
            "35/35 [==============================] - 0s 3ms/step - loss: 3.1171 - val_loss: 4.1491\n",
            "Epoch 254/300\n",
            "35/35 [==============================] - 0s 3ms/step - loss: 3.1465 - val_loss: 4.2547\n",
            "Epoch 255/300\n",
            "35/35 [==============================] - 0s 3ms/step - loss: 3.1077 - val_loss: 4.2722\n",
            "Epoch 256/300\n",
            "35/35 [==============================] - 0s 3ms/step - loss: 3.1113 - val_loss: 4.2857\n",
            "Epoch 257/300\n",
            "35/35 [==============================] - 0s 3ms/step - loss: 3.0709 - val_loss: 4.3183\n",
            "Epoch 258/300\n",
            "35/35 [==============================] - 0s 3ms/step - loss: 3.0805 - val_loss: 4.1814\n",
            "Epoch 259/300\n",
            "35/35 [==============================] - 0s 3ms/step - loss: 3.0706 - val_loss: 4.1594\n",
            "Epoch 260/300\n",
            "35/35 [==============================] - 0s 3ms/step - loss: 3.1263 - val_loss: 4.2637\n",
            "Epoch 261/300\n",
            "35/35 [==============================] - 0s 3ms/step - loss: 3.0311 - val_loss: 4.1887\n",
            "Epoch 262/300\n",
            "35/35 [==============================] - 0s 3ms/step - loss: 3.0579 - val_loss: 4.1974\n",
            "Epoch 263/300\n",
            "35/35 [==============================] - 0s 3ms/step - loss: 3.0331 - val_loss: 4.0805\n",
            "Epoch 264/300\n",
            "35/35 [==============================] - 0s 3ms/step - loss: 3.0775 - val_loss: 4.1526\n",
            "Epoch 265/300\n",
            "35/35 [==============================] - 0s 3ms/step - loss: 3.1109 - val_loss: 4.2507\n",
            "Epoch 266/300\n",
            "35/35 [==============================] - 0s 3ms/step - loss: 3.0602 - val_loss: 4.2559\n",
            "Epoch 267/300\n",
            "35/35 [==============================] - 0s 3ms/step - loss: 3.0831 - val_loss: 4.1863\n",
            "Epoch 268/300\n",
            "35/35 [==============================] - 0s 3ms/step - loss: 3.0178 - val_loss: 4.3049\n",
            "Epoch 269/300\n",
            "35/35 [==============================] - 0s 3ms/step - loss: 3.0249 - val_loss: 4.1791\n",
            "Epoch 270/300\n",
            "35/35 [==============================] - 0s 3ms/step - loss: 3.0639 - val_loss: 4.2050\n",
            "Epoch 271/300\n",
            "35/35 [==============================] - 0s 3ms/step - loss: 3.0184 - val_loss: 4.3874\n",
            "Epoch 272/300\n",
            "35/35 [==============================] - 0s 3ms/step - loss: 3.0106 - val_loss: 4.1983\n",
            "Epoch 273/300\n",
            "35/35 [==============================] - 0s 3ms/step - loss: 3.0111 - val_loss: 4.1583\n",
            "Epoch 274/300\n",
            "35/35 [==============================] - 0s 3ms/step - loss: 3.0883 - val_loss: 4.2913\n",
            "Epoch 275/300\n",
            "35/35 [==============================] - 0s 3ms/step - loss: 3.0249 - val_loss: 4.2951\n",
            "Epoch 276/300\n",
            "35/35 [==============================] - 0s 3ms/step - loss: 2.9991 - val_loss: 4.1348\n",
            "Epoch 277/300\n",
            "35/35 [==============================] - 0s 3ms/step - loss: 3.0357 - val_loss: 4.2481\n",
            "Epoch 278/300\n",
            "35/35 [==============================] - 0s 3ms/step - loss: 3.0029 - val_loss: 4.1492\n",
            "Epoch 279/300\n",
            "35/35 [==============================] - 0s 3ms/step - loss: 2.9722 - val_loss: 4.2488\n",
            "Epoch 280/300\n",
            "35/35 [==============================] - 0s 3ms/step - loss: 2.9848 - val_loss: 4.1007\n",
            "Epoch 281/300\n",
            "35/35 [==============================] - 0s 3ms/step - loss: 2.9658 - val_loss: 4.1279\n",
            "Epoch 282/300\n",
            "35/35 [==============================] - 0s 4ms/step - loss: 2.9393 - val_loss: 4.2571\n",
            "Epoch 283/300\n",
            "35/35 [==============================] - 0s 4ms/step - loss: 2.9480 - val_loss: 4.0931\n",
            "Epoch 284/300\n",
            "35/35 [==============================] - 0s 5ms/step - loss: 2.9910 - val_loss: 4.2267\n",
            "Epoch 285/300\n",
            "35/35 [==============================] - 0s 4ms/step - loss: 3.0055 - val_loss: 4.2873\n",
            "Epoch 286/300\n",
            "35/35 [==============================] - 0s 4ms/step - loss: 2.9950 - val_loss: 4.2989\n",
            "Epoch 287/300\n",
            "35/35 [==============================] - 0s 4ms/step - loss: 2.9459 - val_loss: 4.2114\n",
            "Epoch 288/300\n",
            "35/35 [==============================] - 0s 4ms/step - loss: 2.9432 - val_loss: 4.0581\n",
            "Epoch 289/300\n",
            "35/35 [==============================] - 0s 4ms/step - loss: 2.9679 - val_loss: 4.1814\n",
            "Epoch 290/300\n",
            "35/35 [==============================] - 0s 4ms/step - loss: 2.9180 - val_loss: 4.0687\n",
            "Epoch 291/300\n",
            "35/35 [==============================] - 0s 4ms/step - loss: 2.9347 - val_loss: 4.1635\n",
            "Epoch 292/300\n",
            "35/35 [==============================] - 0s 4ms/step - loss: 2.9227 - val_loss: 4.0943\n",
            "Epoch 293/300\n",
            "35/35 [==============================] - 0s 4ms/step - loss: 2.8933 - val_loss: 4.1645\n",
            "Epoch 294/300\n",
            "35/35 [==============================] - 0s 4ms/step - loss: 2.9122 - val_loss: 4.0560\n",
            "Epoch 295/300\n",
            "35/35 [==============================] - 0s 4ms/step - loss: 2.9402 - val_loss: 4.1271\n",
            "Epoch 296/300\n",
            "35/35 [==============================] - 0s 5ms/step - loss: 2.9171 - val_loss: 4.0366\n",
            "Epoch 297/300\n",
            "35/35 [==============================] - 0s 5ms/step - loss: 2.8524 - val_loss: 4.1343\n",
            "Epoch 298/300\n",
            "35/35 [==============================] - 0s 4ms/step - loss: 2.8888 - val_loss: 4.1598\n",
            "Epoch 299/300\n",
            "35/35 [==============================] - 0s 4ms/step - loss: 2.8767 - val_loss: 4.1608\n",
            "Epoch 300/300\n",
            "35/35 [==============================] - 0s 3ms/step - loss: 2.8791 - val_loss: 4.0838\n"
          ]
        }
      ]
    },
    {
      "cell_type": "code",
      "source": [
        "loss = model.evaluate(X_test, y_test)\n",
        "print(\"Test Loss:\", loss)"
      ],
      "metadata": {
        "colab": {
          "base_uri": "https://localhost:8080/"
        },
        "id": "7cywimyd_qBp",
        "outputId": "1fae7195-8075-411e-9bf9-c3eaacb8b5f0"
      },
      "execution_count": 195,
      "outputs": [
        {
          "output_type": "stream",
          "name": "stdout",
          "text": [
            "11/11 [==============================] - 0s 2ms/step - loss: 4.3826\n",
            "Test Loss: 4.382570266723633\n"
          ]
        }
      ]
    },
    {
      "cell_type": "code",
      "source": [
        "plt.plot(history.history['loss'], label='Training Loss')\n",
        "plt.plot(history.history['val_loss'], label='Validation Loss')\n",
        "plt.xlabel('Epoch')\n",
        "plt.ylabel('Loss')\n",
        "plt.legend()\n",
        "plt.show()"
      ],
      "metadata": {
        "colab": {
          "base_uri": "https://localhost:8080/",
          "height": 449
        },
        "id": "QMOZ6ivu_s7-",
        "outputId": "563959ee-a781-4297-a979-2757d929c785"
      },
      "execution_count": 196,
      "outputs": [
        {
          "output_type": "display_data",
          "data": {
            "text/plain": [
              "<Figure size 640x480 with 1 Axes>"
            ],
            "image/png": "[encoded data removed]"
          },
          "metadata": {}
        }
      ]
    }
  ]
}